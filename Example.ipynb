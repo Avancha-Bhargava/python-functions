{
 "cells": [
  {
   "cell_type": "code",
   "execution_count": 21,
   "id": "4383006f",
   "metadata": {},
   "outputs": [],
   "source": [
    "import EDA as eda\n",
    "import pandas as pd"
   ]
  },
  {
   "cell_type": "code",
   "execution_count": 22,
   "id": "e3f1041a",
   "metadata": {},
   "outputs": [
    {
     "data": {
      "text/html": [
       "<div>\n",
       "<style scoped>\n",
       "    .dataframe tbody tr th:only-of-type {\n",
       "        vertical-align: middle;\n",
       "    }\n",
       "\n",
       "    .dataframe tbody tr th {\n",
       "        vertical-align: top;\n",
       "    }\n",
       "\n",
       "    .dataframe thead th {\n",
       "        text-align: right;\n",
       "    }\n",
       "</style>\n",
       "<table border=\"1\" class=\"dataframe\">\n",
       "  <thead>\n",
       "    <tr style=\"text-align: right;\">\n",
       "      <th></th>\n",
       "      <th>name</th>\n",
       "      <th>Age</th>\n",
       "      <th>Grades</th>\n",
       "      <th>scores</th>\n",
       "      <th>no_of_movies</th>\n",
       "      <th>column_not_needed1</th>\n",
       "      <th>column_not_needed2</th>\n",
       "    </tr>\n",
       "  </thead>\n",
       "  <tbody>\n",
       "    <tr>\n",
       "      <th>0</th>\n",
       "      <td>John</td>\n",
       "      <td>24.0</td>\n",
       "      <td>a</td>\n",
       "      <td>12</td>\n",
       "      <td>2</td>\n",
       "      <td>1</td>\n",
       "      <td>6</td>\n",
       "    </tr>\n",
       "    <tr>\n",
       "      <th>1</th>\n",
       "      <td>Doe</td>\n",
       "      <td>NaN</td>\n",
       "      <td>b</td>\n",
       "      <td>24</td>\n",
       "      <td>3</td>\n",
       "      <td>2</td>\n",
       "      <td>5</td>\n",
       "    </tr>\n",
       "    <tr>\n",
       "      <th>2</th>\n",
       "      <td>None</td>\n",
       "      <td>22.0</td>\n",
       "      <td>c</td>\n",
       "      <td>95</td>\n",
       "      <td>4</td>\n",
       "      <td>3</td>\n",
       "      <td>4</td>\n",
       "    </tr>\n",
       "    <tr>\n",
       "      <th>3</th>\n",
       "      <td>Venkat</td>\n",
       "      <td>21.0</td>\n",
       "      <td>d</td>\n",
       "      <td>67</td>\n",
       "      <td>5</td>\n",
       "      <td>4</td>\n",
       "      <td>3</td>\n",
       "    </tr>\n",
       "    <tr>\n",
       "      <th>4</th>\n",
       "      <td>May</td>\n",
       "      <td>45.0</td>\n",
       "      <td>e</td>\n",
       "      <td>23</td>\n",
       "      <td>5</td>\n",
       "      <td>5</td>\n",
       "      <td>3</td>\n",
       "    </tr>\n",
       "    <tr>\n",
       "      <th>5</th>\n",
       "      <td>June</td>\n",
       "      <td>23.0</td>\n",
       "      <td>f</td>\n",
       "      <td>45</td>\n",
       "      <td>6</td>\n",
       "      <td>6</td>\n",
       "      <td>1</td>\n",
       "    </tr>\n",
       "  </tbody>\n",
       "</table>\n",
       "</div>"
      ],
      "text/plain": [
       "     name   Age Grades  scores  no_of_movies  column_not_needed1  \\\n",
       "0    John  24.0      a      12             2                   1   \n",
       "1     Doe   NaN      b      24             3                   2   \n",
       "2    None  22.0      c      95             4                   3   \n",
       "3  Venkat  21.0      d      67             5                   4   \n",
       "4     May  45.0      e      23             5                   5   \n",
       "5    June  23.0      f      45             6                   6   \n",
       "\n",
       "   column_not_needed2  \n",
       "0                   6  \n",
       "1                   5  \n",
       "2                   4  \n",
       "3                   3  \n",
       "4                   3  \n",
       "5                   1  "
      ]
     },
     "execution_count": 22,
     "metadata": {},
     "output_type": "execute_result"
    }
   ],
   "source": [
    "df = pd.DataFrame({'name':[\"John\",\"Doe\",None,\"Venkat\",\"May\",\"June\"],\n",
    "                   'Age':[24,None,22,21,45,23],'Grades':['a','b','c','d','e','f'],\n",
    "                   'scores':[12,24,95,67,23,45],\n",
    "                   'no_of_movies':[2,3,4,5,5,6],\n",
    "                   'column_not_needed1': [1,2,3,4,5,6],\n",
    "                  'column_not_needed2':[6,5,4,3,3,1]})\n",
    "df"
   ]
  },
  {
   "cell_type": "code",
   "execution_count": 23,
   "id": "4ab25346",
   "metadata": {},
   "outputs": [
    {
     "data": {
      "text/plain": [
       "name                  1\n",
       "Age                   1\n",
       "Grades                0\n",
       "scores                0\n",
       "no_of_movies          0\n",
       "column_not_needed1    0\n",
       "column_not_needed2    0\n",
       "dtype: int64"
      ]
     },
     "execution_count": 23,
     "metadata": {},
     "output_type": "execute_result"
    }
   ],
   "source": [
    "eda.null_values(df,\"count\")"
   ]
  },
  {
   "cell_type": "code",
   "execution_count": 24,
   "id": "c7a63fba",
   "metadata": {},
   "outputs": [],
   "source": [
    "df = eda.null_values(df)"
   ]
  },
  {
   "cell_type": "code",
   "execution_count": 25,
   "id": "ad809c6f",
   "metadata": {},
   "outputs": [
    {
     "data": {
      "text/html": [
       "<div>\n",
       "<style scoped>\n",
       "    .dataframe tbody tr th:only-of-type {\n",
       "        vertical-align: middle;\n",
       "    }\n",
       "\n",
       "    .dataframe tbody tr th {\n",
       "        vertical-align: top;\n",
       "    }\n",
       "\n",
       "    .dataframe thead th {\n",
       "        text-align: right;\n",
       "    }\n",
       "</style>\n",
       "<table border=\"1\" class=\"dataframe\">\n",
       "  <thead>\n",
       "    <tr style=\"text-align: right;\">\n",
       "      <th></th>\n",
       "      <th>name</th>\n",
       "      <th>Age</th>\n",
       "      <th>Grades</th>\n",
       "      <th>scores</th>\n",
       "      <th>no_of_movies</th>\n",
       "      <th>column_not_needed1</th>\n",
       "      <th>column_not_needed2</th>\n",
       "    </tr>\n",
       "  </thead>\n",
       "  <tbody>\n",
       "    <tr>\n",
       "      <th>0</th>\n",
       "      <td>John</td>\n",
       "      <td>24.0</td>\n",
       "      <td>a</td>\n",
       "      <td>12</td>\n",
       "      <td>2</td>\n",
       "      <td>1</td>\n",
       "      <td>6</td>\n",
       "    </tr>\n",
       "    <tr>\n",
       "      <th>3</th>\n",
       "      <td>Venkat</td>\n",
       "      <td>21.0</td>\n",
       "      <td>d</td>\n",
       "      <td>67</td>\n",
       "      <td>5</td>\n",
       "      <td>4</td>\n",
       "      <td>3</td>\n",
       "    </tr>\n",
       "    <tr>\n",
       "      <th>4</th>\n",
       "      <td>May</td>\n",
       "      <td>45.0</td>\n",
       "      <td>e</td>\n",
       "      <td>23</td>\n",
       "      <td>5</td>\n",
       "      <td>5</td>\n",
       "      <td>3</td>\n",
       "    </tr>\n",
       "    <tr>\n",
       "      <th>5</th>\n",
       "      <td>June</td>\n",
       "      <td>23.0</td>\n",
       "      <td>f</td>\n",
       "      <td>45</td>\n",
       "      <td>6</td>\n",
       "      <td>6</td>\n",
       "      <td>1</td>\n",
       "    </tr>\n",
       "  </tbody>\n",
       "</table>\n",
       "</div>"
      ],
      "text/plain": [
       "     name   Age Grades  scores  no_of_movies  column_not_needed1  \\\n",
       "0    John  24.0      a      12             2                   1   \n",
       "3  Venkat  21.0      d      67             5                   4   \n",
       "4     May  45.0      e      23             5                   5   \n",
       "5    June  23.0      f      45             6                   6   \n",
       "\n",
       "   column_not_needed2  \n",
       "0                   6  \n",
       "3                   3  \n",
       "4                   3  \n",
       "5                   1  "
      ]
     },
     "execution_count": 25,
     "metadata": {},
     "output_type": "execute_result"
    }
   ],
   "source": [
    "df"
   ]
  },
  {
   "cell_type": "code",
   "execution_count": 26,
   "id": "89c48a90",
   "metadata": {},
   "outputs": [],
   "source": [
    "df = eda.pop_column(df,['column_not_needed1','column_not_needed2'])"
   ]
  },
  {
   "cell_type": "code",
   "execution_count": 27,
   "id": "2c1f4ac7",
   "metadata": {},
   "outputs": [
    {
     "data": {
      "text/html": [
       "<div>\n",
       "<style scoped>\n",
       "    .dataframe tbody tr th:only-of-type {\n",
       "        vertical-align: middle;\n",
       "    }\n",
       "\n",
       "    .dataframe tbody tr th {\n",
       "        vertical-align: top;\n",
       "    }\n",
       "\n",
       "    .dataframe thead th {\n",
       "        text-align: right;\n",
       "    }\n",
       "</style>\n",
       "<table border=\"1\" class=\"dataframe\">\n",
       "  <thead>\n",
       "    <tr style=\"text-align: right;\">\n",
       "      <th></th>\n",
       "      <th>name</th>\n",
       "      <th>Age</th>\n",
       "      <th>Grades</th>\n",
       "      <th>scores</th>\n",
       "      <th>no_of_movies</th>\n",
       "    </tr>\n",
       "  </thead>\n",
       "  <tbody>\n",
       "    <tr>\n",
       "      <th>0</th>\n",
       "      <td>John</td>\n",
       "      <td>24.0</td>\n",
       "      <td>a</td>\n",
       "      <td>12</td>\n",
       "      <td>2</td>\n",
       "    </tr>\n",
       "    <tr>\n",
       "      <th>3</th>\n",
       "      <td>Venkat</td>\n",
       "      <td>21.0</td>\n",
       "      <td>d</td>\n",
       "      <td>67</td>\n",
       "      <td>5</td>\n",
       "    </tr>\n",
       "    <tr>\n",
       "      <th>4</th>\n",
       "      <td>May</td>\n",
       "      <td>45.0</td>\n",
       "      <td>e</td>\n",
       "      <td>23</td>\n",
       "      <td>5</td>\n",
       "    </tr>\n",
       "    <tr>\n",
       "      <th>5</th>\n",
       "      <td>June</td>\n",
       "      <td>23.0</td>\n",
       "      <td>f</td>\n",
       "      <td>45</td>\n",
       "      <td>6</td>\n",
       "    </tr>\n",
       "  </tbody>\n",
       "</table>\n",
       "</div>"
      ],
      "text/plain": [
       "     name   Age Grades  scores  no_of_movies\n",
       "0    John  24.0      a      12             2\n",
       "3  Venkat  21.0      d      67             5\n",
       "4     May  45.0      e      23             5\n",
       "5    June  23.0      f      45             6"
      ]
     },
     "execution_count": 27,
     "metadata": {},
     "output_type": "execute_result"
    }
   ],
   "source": [
    "df"
   ]
  },
  {
   "cell_type": "code",
   "execution_count": 28,
   "id": "4a866c41",
   "metadata": {},
   "outputs": [
    {
     "data": {
      "text/plain": [
       "array([[<AxesSubplot:title={'center':'Age'}>,\n",
       "        <AxesSubplot:title={'center':'scores'}>],\n",
       "       [<AxesSubplot:title={'center':'no_of_movies'}>, <AxesSubplot:>]],\n",
       "      dtype=object)"
      ]
     },
     "execution_count": 28,
     "metadata": {},
     "output_type": "execute_result"
    },
    {
     "data": {
      "image/png": "[encoded data removed]",
      "text/plain": [
       "<Figure size 576x432 with 4 Axes>"
      ]
     },
     "metadata": {
      "needs_background": "light"
     },
     "output_type": "display_data"
    }
   ],
   "source": [
    "eda.numeric_column_distribution(df)"
   ]
  },
  {
   "cell_type": "code",
   "execution_count": 29,
   "id": "b85cd551",
   "metadata": {},
   "outputs": [
    {
     "data": {
      "image/png": "[encoded data removed]",
      "text/plain": [
       "<Figure size 576x288 with 2 Axes>"
      ]
     },
     "metadata": {
      "needs_background": "light"
     },
     "output_type": "display_data"
    }
   ],
   "source": [
    "eda.count_plot(df)"
   ]
  },
  {
   "cell_type": "code",
   "execution_count": 30,
   "id": "1157dbb5",
   "metadata": {},
   "outputs": [
    {
     "data": {
      "text/html": [
       "<style  type=\"text/css\" >\n",
       "#T_a1945_row0_col0,#T_a1945_row1_col1,#T_a1945_row2_col2{\n",
       "            background-color:  #b40426;\n",
       "            color:  #f1f1f1;\n",
       "        }#T_a1945_row0_col1,#T_a1945_row0_col2,#T_a1945_row1_col0{\n",
       "            background-color:  #3b4cc0;\n",
       "            color:  #f1f1f1;\n",
       "        }#T_a1945_row1_col2{\n",
       "            background-color:  #f2cbb7;\n",
       "            color:  #000000;\n",
       "        }#T_a1945_row2_col0{\n",
       "            background-color:  #c3d5f4;\n",
       "            color:  #000000;\n",
       "        }#T_a1945_row2_col1{\n",
       "            background-color:  #f39475;\n",
       "            color:  #000000;\n",
       "        }</style><table id=\"T_a1945_\" ><thead>    <tr>        <th class=\"blank level0\" ></th>        <th class=\"col_heading level0 col0\" >Age</th>        <th class=\"col_heading level0 col1\" >scores</th>        <th class=\"col_heading level0 col2\" >no_of_movies</th>    </tr></thead><tbody>\n",
       "                <tr>\n",
       "                        <th id=\"T_a1945_level0_row0\" class=\"row_heading level0 row0\" >Age</th>\n",
       "                        <td id=\"T_a1945_row0_col0\" class=\"data row0 col0\" >1.000000</td>\n",
       "                        <td id=\"T_a1945_row0_col1\" class=\"data row0 col1\" >-0.471614</td>\n",
       "                        <td id=\"T_a1945_row0_col2\" class=\"data row0 col2\" >0.128459</td>\n",
       "            </tr>\n",
       "            <tr>\n",
       "                        <th id=\"T_a1945_level0_row1\" class=\"row_heading level0 row1\" >scores</th>\n",
       "                        <td id=\"T_a1945_row1_col0\" class=\"data row1 col0\" >-0.471614</td>\n",
       "                        <td id=\"T_a1945_row1_col1\" class=\"data row1 col1\" >1.000000</td>\n",
       "                        <td id=\"T_a1945_row1_col2\" class=\"data row1 col2\" >0.650945</td>\n",
       "            </tr>\n",
       "            <tr>\n",
       "                        <th id=\"T_a1945_level0_row2\" class=\"row_heading level0 row2\" >no_of_movies</th>\n",
       "                        <td id=\"T_a1945_row2_col0\" class=\"data row2 col0\" >0.128459</td>\n",
       "                        <td id=\"T_a1945_row2_col1\" class=\"data row2 col1\" >0.650945</td>\n",
       "                        <td id=\"T_a1945_row2_col2\" class=\"data row2 col2\" >1.000000</td>\n",
       "            </tr>\n",
       "    </tbody></table>"
      ],
      "text/plain": [
       "<pandas.io.formats.style.Styler at 0x24a9028c490>"
      ]
     },
     "execution_count": 30,
     "metadata": {},
     "output_type": "execute_result"
    }
   ],
   "source": [
    "eda.corr(df)"
   ]
  },
  {
   "cell_type": "code",
   "execution_count": 31,
   "id": "c12c09ef",
   "metadata": {},
   "outputs": [
    {
     "data": {
      "image/png": "[encoded data removed]",
      "text/plain": [
       "<Figure size 432x288 with 1 Axes>"
      ]
     },
     "metadata": {
      "needs_background": "light"
     },
     "output_type": "display_data"
    }
   ],
   "source": [
    "eda.box_plot(df)"
   ]
  },
  {
   "cell_type": "code",
   "execution_count": null,
   "id": "905d35fe",
   "metadata": {},
   "outputs": [],
   "source": []
  }
 ],
 "metadata": {
  "kernelspec": {
   "display_name": "Python 3",
   "language": "python",
   "name": "python3"
  },
  "language_info": {
   "codemirror_mode": {
    "name": "ipython",
    "version": 3
   },
   "file_extension": ".py",
   "mimetype": "text/x-python",
   "name": "python",
   "nbconvert_exporter": "python",
   "pygments_lexer": "ipython3",
   "version": "3.8.8"
  }
 },
 "nbformat": 4,
 "nbformat_minor": 5
}
